{
 "cells": [
  {
   "cell_type": "code",
   "execution_count": 1,
   "metadata": {},
   "outputs": [],
   "source": [
    "from selenium import webdriver\n",
    "from selenium.webdriver.common.keys import Keys"
   ]
  },
  {
   "cell_type": "code",
   "execution_count": 2,
   "metadata": {},
   "outputs": [],
   "source": [
    "driver = webdriver.Chrome(r'./chromedriver')"
   ]
  },
  {
   "cell_type": "code",
   "execution_count": 3,
   "metadata": {},
   "outputs": [],
   "source": [
    "import time"
   ]
  },
  {
   "cell_type": "code",
   "execution_count": 4,
   "metadata": {},
   "outputs": [],
   "source": [
    "driver.get(\"https://linkedin.com/\")"
   ]
  },
  {
   "cell_type": "code",
   "execution_count": 6,
   "metadata": {},
   "outputs": [],
   "source": [
    "url = r\"https://www.linkedin.com/mynetwork/invitation-manager/\""
   ]
  },
  {
   "cell_type": "code",
   "execution_count": 7,
   "metadata": {},
   "outputs": [],
   "source": [
    "# bubble = driver.find_element_by_class_name(\"msg-overlay-conversation-bubble\")\n",
    "# close = bubble.find_element_by_css_selector('[type=\"cancel-icon\"]')\n",
    "# close.click()"
   ]
  },
  {
   "cell_type": "code",
   "execution_count": null,
   "metadata": {},
   "outputs": [
    {
     "name": "stdout",
     "output_type": "stream",
     "text": [
      "Message: element click intercepted: Element <button aria-label=\"Accept Umesh Singh’s invitation\" id=\"ember253\" class=\"invitation-card__action-btn artdeco-button artdeco-button--2 artdeco-button--secondary ember-view\">...</button> is not clickable at point (798, 661). Other element would receive the click: <div class=\"msg-facepile-grid\n",
      "    msg-facepile-grid--no-facepile\n",
      "    msg-facepile-grid--1 msg-selectable-entity__entity mr1\">...</div>\n",
      "  (Session info: chrome=92.0.4515.131)\n",
      "\n",
      "Message: element click intercepted: Element <button aria-label=\"Accept Shubham Rawat’s invitation\" id=\"ember93\" class=\"invitation-card__action-btn artdeco-button artdeco-button--2 artdeco-button--secondary ember-view\">...</button> is not clickable at point (798, 661). Other element would receive the click: <div class=\"presence-entity__indicator\n",
      "      \n",
      "      presence-entity__indicator--size-1 presence-indicator\n",
      "    presence-indicator--is-reachable\n",
      "    presence-indicator--size-1\">...</div>\n",
      "  (Session info: chrome=92.0.4515.131)\n",
      "\n",
      "Message: element click intercepted: Element <button aria-label=\"Accept Aman Kumar Singh’s invitation\" id=\"ember510\" class=\"invitation-card__action-btn artdeco-button artdeco-button--2 artdeco-button--secondary ember-view\">...</button> is not clickable at point (798, 661). Other element would receive the click: <div class=\"msg-facepile-grid\n",
      "    msg-facepile-grid--no-facepile\n",
      "    msg-facepile-grid--1 msg-selectable-entity__entity mr1\">...</div>\n",
      "  (Session info: chrome=92.0.4515.131)\n",
      "\n",
      "Message: element click intercepted: Element <button aria-label=\"Accept Nabhag Motivaras’ invitation\" id=\"ember392\" class=\"invitation-card__action-btn artdeco-button artdeco-button--2 artdeco-button--secondary ember-view\">...</button> is not clickable at point (798, 672). Other element would receive the click: <div class=\"msg-overlay-bubble-header__badge-container\n",
      "          \"></div>\n",
      "  (Session info: chrome=92.0.4515.131)\n",
      "\n",
      "Message: element click intercepted: Element <button aria-label=\"Accept JITESH SINGH’S invitation\" id=\"ember261\" class=\"invitation-card__action-btn artdeco-button artdeco-button--2 artdeco-button--secondary ember-view\">...</button> is not clickable at point (798, 661). Other element would receive the click: <div class=\"msg-facepile-grid\n",
      "    msg-facepile-grid--no-facepile\n",
      "    msg-facepile-grid--1 msg-selectable-entity__entity mr1\">...</div>\n",
      "  (Session info: chrome=92.0.4515.131)\n",
      "\n",
      "Message: element click intercepted: Element <button aria-label=\"Accept MADHURENDRA NATH TIWARI’S invitation\" id=\"ember694\" class=\"invitation-card__action-btn artdeco-button artdeco-button--2 artdeco-button--secondary ember-view\">...</button> is not clickable at point (798, 661). Other element would receive the click: <div class=\"presence-entity__indicator\n",
      "      \n",
      "      presence-entity__indicator--size-1 presence-indicator\n",
      "    presence-indicator--is-online\n",
      "    presence-indicator--size-1\">...</div>\n",
      "  (Session info: chrome=92.0.4515.131)\n",
      "\n",
      "Message: element click intercepted: Element <button aria-label=\"Accept Kamayani Rai’s invitation\" id=\"ember667\" class=\"invitation-card__action-btn artdeco-button artdeco-button--2 artdeco-button--secondary ember-view\">...</button> is not clickable at point (798, 661). Other element would receive the click: <div class=\"msg-facepile-grid\n",
      "    msg-facepile-grid--no-facepile\n",
      "    msg-facepile-grid--1 msg-selectable-entity__entity mr1\">...</div>\n",
      "  (Session info: chrome=92.0.4515.131)\n",
      "\n",
      "Message: element click intercepted: Element <button aria-label=\"Accept Chirag Dhunna’s invitation\" id=\"ember237\" class=\"invitation-card__action-btn artdeco-button artdeco-button--2 artdeco-button--secondary ember-view\">...</button> is not clickable at point (798, 661). Other element would receive the click: <div class=\"msg-facepile-grid\n",
      "    msg-facepile-grid--no-facepile\n",
      "    msg-facepile-grid--1 msg-selectable-entity__entity mr1\">...</div>\n",
      "  (Session info: chrome=92.0.4515.131)\n",
      "\n",
      "Message: element click intercepted: Element <button aria-label=\"Accept Suhail Khan’s invitation\" id=\"ember347\" class=\"invitation-card__action-btn artdeco-button artdeco-button--2 artdeco-button--secondary ember-view\">...</button> is not clickable at point (798, 661). Other element would receive the click: <div class=\"msg-facepile-grid\n",
      "    msg-facepile-grid--no-facepile\n",
      "    msg-facepile-grid--1 msg-selectable-entity__entity mr1\">...</div>\n",
      "  (Session info: chrome=92.0.4515.131)\n",
      "\n",
      "Message: element click intercepted: Element <button aria-label=\"Accept Subash Chander S’ invitation\" id=\"ember253\" class=\"invitation-card__action-btn artdeco-button artdeco-button--2 artdeco-button--secondary ember-view\">...</button> is not clickable at point (798, 661). Other element would receive the click: <div class=\"msg-facepile-grid\n",
      "    msg-facepile-grid--no-facepile\n",
      "    msg-facepile-grid--1 msg-selectable-entity__entity mr1\">...</div>\n",
      "  (Session info: chrome=92.0.4515.131)\n",
      "\n",
      "Message: element click intercepted: Element <button aria-label=\"Accept Arsheel Sheikh’s invitation\" id=\"ember577\" class=\"invitation-card__action-btn artdeco-button artdeco-button--2 artdeco-button--secondary ember-view\">...</button> is not clickable at point (798, 661). Other element would receive the click: <div class=\"msg-facepile-grid\n",
      "    msg-facepile-grid--no-facepile\n",
      "    msg-facepile-grid--1 msg-selectable-entity__entity mr1\">...</div>\n",
      "  (Session info: chrome=92.0.4515.131)\n",
      "\n"
     ]
    }
   ],
   "source": [
    "while True:\n",
    "    driver.get(url)\n",
    "    time.sleep(5)\n",
    "    core = driver.find_element_by_class_name(\"mn-invitation-manager__artdeco-card\")\n",
    "    li = core.find_elements_by_class_name(\"artdeco-button--secondary\")\n",
    "    try:\n",
    "        for invite in li:\n",
    "            invite.click()\n",
    "            bubbles = driver.find_elements_by_class_name(\"msg-overlay-conversation-bubble\")\n",
    "            for bubble in bubbles:\n",
    "                close = bubble.find_element_by_css_selector('[type=\"cancel-icon\"]')\n",
    "                close.click()\n",
    "            time.sleep(1)\n",
    "    except Exception as e:\n",
    "        print(e)"
   ]
  },
  {
   "cell_type": "code",
   "execution_count": null,
   "metadata": {},
   "outputs": [],
   "source": [
    "int(\"11 22\".split()[0])"
   ]
  },
  {
   "cell_type": "code",
   "execution_count": null,
   "metadata": {},
   "outputs": [],
   "source": []
  }
 ],
 "metadata": {
  "kernelspec": {
   "display_name": "Python 3",
   "language": "python",
   "name": "python3"
  },
  "language_info": {
   "codemirror_mode": {
    "name": "ipython",
    "version": 3
   },
   "file_extension": ".py",
   "mimetype": "text/x-python",
   "name": "python",
   "nbconvert_exporter": "python",
   "pygments_lexer": "ipython3",
   "version": "3.8.8"
  }
 },
 "nbformat": 4,
 "nbformat_minor": 4
}
