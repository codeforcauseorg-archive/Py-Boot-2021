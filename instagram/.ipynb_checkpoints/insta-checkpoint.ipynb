{
 "cells": [
  {
   "cell_type": "code",
   "execution_count": 35,
   "id": "af4c5463-3501-47bf-92cb-1162a6b8ef6c",
   "metadata": {},
   "outputs": [],
   "source": [
    "from selenium import webdriver\n",
    "import time"
   ]
  },
  {
   "cell_type": "code",
   "execution_count": 3,
   "id": "34a51e25-f274-4a03-8dd6-878ce2bd108a",
   "metadata": {},
   "outputs": [],
   "source": [
    "driver = webdriver.Chrome(\"./chromedriver\")"
   ]
  },
  {
   "cell_type": "code",
   "execution_count": 8,
   "id": "f7336936-1f9b-4a5b-9547-cba330d4596e",
   "metadata": {},
   "outputs": [],
   "source": [
    "url = \"https://instagram.com\""
   ]
  },
  {
   "cell_type": "code",
   "execution_count": 9,
   "id": "1f57f94a-b892-4e40-9808-a3f3ffdce74c",
   "metadata": {},
   "outputs": [],
   "source": [
    "driver.get(url)"
   ]
  },
  {
   "cell_type": "code",
   "execution_count": null,
   "id": "a1f8779c-1d84-4626-af9f-664ea44dab1a",
   "metadata": {},
   "outputs": [],
   "source": [
    "username = \"codeforcause\"\n",
    "\n",
    "url = \"https://instagram.com/{}\"\n",
    "\n",
    "driver.get(url.format(username))\n",
    "\n",
    "time.sleep(1)\n",
    "\n",
    "items = driver.find_elements_by_class_name(\"_9AhH0\")\n",
    "\n",
    "if len(items) > 0:\n",
    "    \n",
    "    items[0].click()\n",
    "    time.sleep(1)\n",
    "    presentations = driver.find_elements_by_css_selector('[role=\"presentation\"]')\n",
    "    counter = 20\n",
    "    \n",
    "    if len(presentations) >= 3:\n",
    "            major = presentations[2]\n",
    "\n",
    "        while counter > 0:\n",
    "\n",
    "    \n",
    "            likes = driver.find_elements_by_css_selector('[aria-label=\"Like\"]')\n",
    "            if len(likes) > 0:\n",
    "                likes[0].click()\n",
    "                counter -= 1\n",
    "\n",
    "            moves = driver.find_elements_by_class_name(\"coreSpriteRightPaginationArrow\")\n",
    "            if len(moves)>0:\n",
    "                moves[0].click()\n",
    "                time.sleep(1)"
   ]
  },
  {
   "cell_type": "code",
   "execution_count": null,
   "id": "c78f31c2-30f6-43e2-ad27-2f7b87ecb84e",
   "metadata": {},
   "outputs": [],
   "source": []
  },
  {
   "cell_type": "code",
   "execution_count": null,
   "id": "de9a145d-c4a6-48e8-aa2f-c3b32ee21951",
   "metadata": {},
   "outputs": [],
   "source": []
  }
 ],
 "metadata": {
  "kernelspec": {
   "display_name": "Python 3",
   "language": "python",
   "name": "python3"
  },
  "language_info": {
   "codemirror_mode": {
    "name": "ipython",
    "version": 3
   },
   "file_extension": ".py",
   "mimetype": "text/x-python",
   "name": "python",
   "nbconvert_exporter": "python",
   "pygments_lexer": "ipython3",
   "version": "3.8.8"
  }
 },
 "nbformat": 4,
 "nbformat_minor": 5
}
